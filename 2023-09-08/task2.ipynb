{
  "nbformat": 4,
  "nbformat_minor": 0,
  "metadata": {
    "colab": {
      "provenance": [],
      "authorship_tag": "ABX9TyPPM8kpHzdkayNYmT97IKmZ",
      "include_colab_link": true
    },
    "kernelspec": {
      "name": "python3",
      "display_name": "Python 3"
    },
    "language_info": {
      "name": "python"
    }
  },
  "cells": [
    {
      "cell_type": "markdown",
      "metadata": {
        "id": "view-in-github",
        "colab_type": "text"
      },
      "source": [
        "<a href=\"https://colab.research.google.com/github/fugitiveom/GeekBrains/blob/homework/2023.09.09/task2.ipynb\" target=\"_parent\"><img src=\"https://colab.research.google.com/assets/colab-badge.svg\" alt=\"Open In Colab\"/></a>"
      ]
    },
    {
      "cell_type": "code",
      "execution_count": 1,
      "metadata": {
        "id": "b9aFhek0_qUY"
      },
      "outputs": [],
      "source": [
        "import pandas as pd"
      ]
    },
    {
      "cell_type": "code",
      "source": [
        "file_path = '/content/sample_data/california_housing_train.csv'\n",
        "data = pd.read_csv(file_path)"
      ],
      "metadata": {
        "id": "LeyVIK9gAQeP"
      },
      "execution_count": 2,
      "outputs": []
    },
    {
      "cell_type": "code",
      "source": [
        "min_population = data['population'].min()"
      ],
      "metadata": {
        "id": "DZd6wkR4AUrL"
      },
      "execution_count": 3,
      "outputs": []
    },
    {
      "cell_type": "code",
      "source": [
        "zone_with_min_population = data[data['population'] == min_population]"
      ],
      "metadata": {
        "id": "AXnm5gZlAYzK"
      },
      "execution_count": 5,
      "outputs": []
    },
    {
      "cell_type": "code",
      "source": [
        "max_households_in_zone = zone_with_min_population['households'].max()\n",
        "print(\"Максимальное количество households в зоне с минимальным населением:\", max_households_in_zone)"
      ],
      "metadata": {
        "colab": {
          "base_uri": "https://localhost:8080/"
        },
        "id": "pHcGTHNWAdrx",
        "outputId": "8f865345-95dc-48aa-c440-8a1eac615b5d"
      },
      "execution_count": 6,
      "outputs": [
        {
          "output_type": "stream",
          "name": "stdout",
          "text": [
            "Максимальное количество households в зоне с минимальным населением: 4.0\n"
          ]
        }
      ]
    }
  ]
}