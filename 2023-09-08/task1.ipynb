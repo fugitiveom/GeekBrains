{
  "nbformat": 4,
  "nbformat_minor": 0,
  "metadata": {
    "colab": {
      "provenance": [],
      "authorship_tag": "ABX9TyNKO3AjT73/EHix1PLEzkEY",
      "include_colab_link": true
    },
    "kernelspec": {
      "name": "python3",
      "display_name": "Python 3"
    },
    "language_info": {
      "name": "python"
    }
  },
  "cells": [
    {
      "cell_type": "markdown",
      "metadata": {
        "id": "view-in-github",
        "colab_type": "text"
      },
      "source": [
        "<a href=\"https://colab.research.google.com/github/fugitiveom/GeekBrains/blob/homework/2023.09.09/task1.ipynb\" target=\"_parent\"><img src=\"https://colab.research.google.com/assets/colab-badge.svg\" alt=\"Open In Colab\"/></a>"
      ]
    },
    {
      "cell_type": "code",
      "execution_count": 1,
      "metadata": {
        "id": "OpJxUHRI2Mh1"
      },
      "outputs": [],
      "source": [
        "import pandas as pd"
      ]
    },
    {
      "cell_type": "code",
      "source": [
        "file_path = '/content/sample_data/california_housing_train.csv'\n",
        "data = pd.read_csv(file_path)"
      ],
      "metadata": {
        "id": "5zgTVErL97n5"
      },
      "execution_count": 2,
      "outputs": []
    },
    {
      "cell_type": "code",
      "source": [
        "filtered_data = data[(data['population'] >= 0) & (data['population'] <= 500)]"
      ],
      "metadata": {
        "id": "FbABTJY--VqV"
      },
      "execution_count": 3,
      "outputs": []
    },
    {
      "cell_type": "code",
      "source": [
        "max_price = filtered_data['median_house_value'].max()\n",
        "print(\"Максимальное значение цены дома:\", max_price)"
      ],
      "metadata": {
        "colab": {
          "base_uri": "https://localhost:8080/"
        },
        "id": "aAbN8BWI-eJM",
        "outputId": "64c53e42-86d7-4ada-fae0-424853a444e2"
      },
      "execution_count": 4,
      "outputs": [
        {
          "output_type": "stream",
          "name": "stdout",
          "text": [
            "Максимальное значение цены дома: 500001.0\n"
          ]
        }
      ]
    },
    {
      "cell_type": "code",
      "source": [
        "min_price = filtered_data['median_house_value'].min()\n",
        "print(\"Минимальное значение цены дома:\", min_price)"
      ],
      "metadata": {
        "colab": {
          "base_uri": "https://localhost:8080/"
        },
        "id": "7kQ0y1oJ-kRJ",
        "outputId": "9b578bd6-5762-4e81-d37f-6d824a9ba792"
      },
      "execution_count": 5,
      "outputs": [
        {
          "output_type": "stream",
          "name": "stdout",
          "text": [
            "Минимальное значение цены дома: 14999.0\n"
          ]
        }
      ]
    },
    {
      "cell_type": "code",
      "source": [
        "mean_price = filtered_data['median_house_value'].mean()\n",
        "print(\"Среднее значение цены дома:\", mean_price)"
      ],
      "metadata": {
        "colab": {
          "base_uri": "https://localhost:8080/"
        },
        "id": "pSosSdGB-rvZ",
        "outputId": "f8265f4b-98c0-4110-ef00-0cf17e92e88e"
      },
      "execution_count": 6,
      "outputs": [
        {
          "output_type": "stream",
          "name": "stdout",
          "text": [
            "Среднее значение цены дома: 206799.95140186916\n"
          ]
        }
      ]
    }
  ]
}